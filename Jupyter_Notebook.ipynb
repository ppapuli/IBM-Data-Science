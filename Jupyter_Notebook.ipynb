{
 "cells": [
  {
   "cell_type": "markdown",
   "metadata": {},
   "source": [
    "<center>\n",
    "    <img src=\"https://cf-courses-data.s3.us.cloud-object-storage.appdomain.cloud/IBMDeveloperSkillsNetwork-DS0105EN-SkillsNetwork/labs/Module2/images/SN_web_lightmode.png\" width=\"300\" alt=\"cognitiveclass.ai logo\">\n",
    "</center>\n"
   ]
  },
  {
   "cell_type": "markdown",
   "metadata": {},
   "source": [
    "#### Add your code below following the instructions given in the course\n"
   ]
  },
  {
   "cell_type": "markdown",
   "metadata": {},
   "source": [
    "# Data Science Tools and Ecosystem"
   ]
  },
  {
   "cell_type": "markdown",
   "metadata": {},
   "source": [
    "## The steps I took to familiarize myself to this amazing tool"
   ]
  },
  {
   "cell_type": "markdown",
   "metadata": {},
   "source": [
    "There are a lot of data science languages\n",
    "- Python\n",
    "- R\n",
    "- Java\n",
    "- Julia"
   ]
  },
  {
   "cell_type": "markdown",
   "metadata": {},
   "source": [
    "And a lot of interesting libraries within them\n",
    "- Pandas\n",
    "- Plotly\n",
    "- Matplotlib\n",
    "- SciKit Learn\n",
    "- Pytorch\n",
    "- Seaborn\n",
    "- ggplot\n",
    "- dplyr"
   ]
  },
  {
   "cell_type": "markdown",
   "metadata": {},
   "source": [
    "Along with the different data science tools \n",
    "| Tool Name         | Type           | Description                                           |\n",
    "|-------------------|----------------|-------------------------------------------------------|\n",
    "| Jupyter Notebook  | IDE            | Interactive development environment for data science  |\n",
    "| Pandas            | Library        | Data manipulation and analysis                        |\n",
    "| NumPy             | Library        | Numerical computing with arrays and matrices          |\n",
    "| Matplotlib        | Library        | Plotting and visualization                            |\n",
    "| Scikit-learn      | Library        | Machine learning algorithms                           |\n",
    "| TensorFlow        | Library/Framework | Machine learning and neural networks              |\n",
    "| PyTorch           | Library/Framework | Deep learning and tensor computations             |\n",
    "| R                 | Language       | Statistical computing and graphics                    |\n",
    "| SQL               | Language       | Database query language                               |\n",
    "| Apache Spark      | Framework      | Large-scale data processing                           |\n"
   ]
  },
  {
   "cell_type": "markdown",
   "metadata": {},
   "source": [
    "### Arithmetic Expression Examples\n",
    "\n",
    "In this section, we will explore various arithmetic expressions and how they are used in programming. Arithmetic expressions are used to perform mathematical operations on numbers.\n",
    "\n",
    "### Basic Operations\n",
    "\n",
    "1. **Addition (`+`):** Adds two numbers together.\n",
    "   - Example: `5 + 3` results in `8`.\n",
    "\n",
    "2. **Subtraction (`-`):** Subtracts the second number from the first.\n",
    "   - Example: `10 - 4` results in `6`.\n",
    "\n",
    "3. **Multiplication (`*`):** Multiplies two numbers.\n",
    "   - Example: `7 * 6` results in `42`.\n",
    "\n",
    "4. **Division (`/`):** Divides the first number by the second.\n",
    "   - Example: `20 / 5` results in `4`.\n",
    "\n",
    "### Advanced Operations\n",
    "\n",
    "5. **Exponentiation (`**`):** Raises the first number to the power of the second.\n",
    "   - Example: `2 ** 3` results in `8` (2 cubed).\n",
    "\n",
    "6. **Modulus (`%`):** Returns the remainder of the division of the first number by the second.\n",
    "   - Example: `15 % 4` results in `3`.\n",
    "\n",
    "7. **Floor Division (`//`):** Divides the first number by the second and rounds down to the nearest whole number.\n",
    "   - Example: `17 // 5` results in `3`.\n"
   ]
  },
  {
   "cell_type": "code",
   "execution_count": null,
   "metadata": {
    "tags": []
   },
   "outputs": [
    {
     "data": {
      "text/plain": [
       "9"
      ]
     },
     "execution_count": 2,
     "metadata": {},
     "output_type": "execute_result"
    }
   ],
   "source": [
    "# This a simple arithmetic expression to mutiply then add integers\n",
    "(3*4)+5"
   ]
  },
  {
   "cell_type": "code",
   "execution_count": 3,
   "metadata": {
    "tags": []
   },
   "outputs": [
    {
     "name": "stdout",
     "output_type": "stream",
     "text": [
      "120 minutes is equal to 2.0 hours.\n"
     ]
    }
   ],
   "source": [
    "# This will convert 200 minutes to hours by diving by 60\n",
    "def convert_minutes_to_hours(minutes):\n",
    "    hours = minutes / 60\n",
    "    return hours\n",
    "\n",
    "# Example usage:\n",
    "minutes = 120\n",
    "hours = convert_minutes_to_hours(minutes)\n",
    "print(f\"{minutes} minutes is equal to {hours} hours.\")"
   ]
  },
  {
   "cell_type": "markdown",
   "metadata": {},
   "source": [
    "_Objectives Covered_\n",
    "- Creating lists\n",
    "- Creating tables\n",
    "- Arithmetic operations\n",
    "- Making a Function\n",
    "- Using markdown and code"
   ]
  },
  {
   "cell_type": "markdown",
   "metadata": {},
   "source": [
    "## Author\n",
    "Peter P"
   ]
  }
 ],
 "metadata": {
  "kernelspec": {
   "display_name": "Python",
   "language": "python",
   "name": "conda-env-python-py"
  },
  "language_info": {
   "codemirror_mode": {
    "name": "ipython",
    "version": 3
   },
   "file_extension": ".py",
   "mimetype": "text/x-python",
   "name": "python",
   "nbconvert_exporter": "python",
   "pygments_lexer": "ipython3",
   "version": "3.7.12"
  }
 },
 "nbformat": 4,
 "nbformat_minor": 4
}
